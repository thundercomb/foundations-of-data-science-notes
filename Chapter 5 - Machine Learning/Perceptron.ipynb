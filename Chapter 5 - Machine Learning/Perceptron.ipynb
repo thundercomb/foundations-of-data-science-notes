{
 "cells": [
  {
   "cell_type": "code",
   "execution_count": 1,
   "metadata": {},
   "outputs": [],
   "source": [
    "import numpy as np"
   ]
  },
  {
   "cell_type": "code",
   "execution_count": 2,
   "metadata": {},
   "outputs": [],
   "source": [
    "X = np.array([\n",
    "    [9,11,10],\n",
    "    [2,2,1],\n",
    "    [10,9,11],\n",
    "    [3,2,1],\n",
    "    [11,10,9],\n",
    "    [1,3,3]\n",
    "])\n",
    "\n",
    "Y = np.array([\n",
    "    [-1],\n",
    "    [1],\n",
    "    [-1],\n",
    "    [1],\n",
    "    [-1],\n",
    "    [1]\n",
    "])"
   ]
  },
  {
   "cell_type": "code",
   "execution_count": 3,
   "metadata": {},
   "outputs": [
    {
     "name": "stdout",
     "output_type": "stream",
     "text": [
      "3\n",
      "3\n",
      "1\n",
      "\n",
      "3\n",
      "3\n",
      "1\n",
      "\n",
      "3\n",
      "3\n",
      "1\n",
      "\n",
      "3\n",
      "3\n",
      "1\n",
      "\n",
      "3\n",
      "3\n",
      "1\n",
      "\n",
      "3\n",
      "3\n",
      "1\n",
      "\n",
      "[ -8  -4 -12] [1 3 3] [1] -1\n"
     ]
    }
   ],
   "source": [
    "w = np.array([0,0,0])\n",
    "n_epochs = 1\n",
    "lr = 0.1\n",
    "\n",
    "for i in range(n_epochs):\n",
    "    for x, y in zip(X,Y):\n",
    "        yhat = 0\n",
    "        dotp = x @ w\n",
    "        \n",
    "        if dotp <= 0:\n",
    "            yhat = -1\n",
    "        else:\n",
    "            yhat = 1\n",
    "            \n",
    "        w = w + (x * (y - yhat))\n",
    "        \n",
    "    \n",
    "print(w, x, y, yhat)\n",
    "        "
   ]
  },
  {
   "cell_type": "code",
   "execution_count": 4,
   "metadata": {},
   "outputs": [
    {
     "name": "stdout",
     "output_type": "stream",
     "text": [
      "[ 9 11 10]\n",
      "Predicted label: -1\n",
      "Real label: -1\n",
      "\n",
      "[2 2 1]\n",
      "Predicted label: -1\n",
      "Real label: 1\n",
      "\n",
      "[10  9 11]\n",
      "Predicted label: -1\n",
      "Real label: -1\n",
      "\n",
      "[3 2 1]\n",
      "Predicted label: -1\n",
      "Real label: 1\n",
      "\n",
      "[11 10  9]\n",
      "Predicted label: -1\n",
      "Real label: -1\n",
      "\n",
      "[1 3 3]\n",
      "Predicted label: -1\n",
      "Real label: 1\n",
      "\n"
     ]
    }
   ],
   "source": [
    "for train_sample, train_label in zip(X,Y):\n",
    "    if np.matmul(train_sample, w) <= 0:\n",
    "        label_hat = -1\n",
    "    else:\n",
    "        label_hat = 1\n",
    "\n",
    "    print(train_sample)\n",
    "    print(f'Predicted label: {label_hat}')\n",
    "    print(f'Real label: {train_label[0]}')\n",
    "    print()\n",
    "\n"
   ]
  },
  {
   "cell_type": "code",
   "execution_count": null,
   "metadata": {},
   "outputs": [],
   "source": [
    "X_test = np.array([\n",
    "    [10,10,10],\n",
    "    [2,3,2],\n",
    "    [8,9,8],\n",
    "    [3,3,0],\n",
    "    [11,12,13],\n",
    "    [1,1,-1]\n",
    "])\n",
    "\n",
    "Y_test = np.array([\n",
    "    [-1],\n",
    "    [1],\n",
    "    [-1],\n",
    "    [1],\n",
    "    [-1],\n",
    "    [1]\n",
    "])\n",
    "\n",
    "for test_sample, test_label in zip(X_test,Y_test):\n",
    "    if np.matmul(test_sample, w) <= 0:\n",
    "        label_hat = -1\n",
    "    else:\n",
    "        label_hat = 1\n",
    "\n",
    "    print(test_sample)\n",
    "    print(f'Predicted label: {label_hat}')\n",
    "    print(f'Real label: {test_label[0]}')\n",
    "    print()\n",
    "\n"
   ]
  },
  {
   "cell_type": "code",
   "execution_count": null,
   "metadata": {},
   "outputs": [],
   "source": []
  }
 ],
 "metadata": {
  "kernelspec": {
   "display_name": "Python 3",
   "language": "python",
   "name": "python3"
  },
  "language_info": {
   "codemirror_mode": {
    "name": "ipython",
    "version": 3
   },
   "file_extension": ".py",
   "mimetype": "text/x-python",
   "name": "python",
   "nbconvert_exporter": "python",
   "pygments_lexer": "ipython3",
   "version": "3.7.7"
  }
 },
 "nbformat": 4,
 "nbformat_minor": 2
}
